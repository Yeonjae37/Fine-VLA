{
 "cells": [
  {
   "cell_type": "code",
   "execution_count": 113,
   "id": "447759b3",
   "metadata": {},
   "outputs": [],
   "source": [
    "import sys, os\n",
    "\n",
    "root = r'C:\\Users\\user\\Documents\\Fine-VLA'\n",
    "\n",
    "if root not in sys.path:\n",
    "    sys.path.insert(0, root)\n",
    "\n",
    "os.chdir(root)\n",
    "\n",
    "import data_loader.data_loader as module_data\n",
    "import model.metric as module_metric\n",
    "import model.model as module_arch\n",
    "from model.model import compute_similarity\n",
    "from parse_config import ConfigParser\n",
    "from trainer.trainer import verbose\n",
    "from utils.util import state_dict_data_parallel_fix"
   ]
  },
  {
   "cell_type": "code",
   "execution_count": 114,
   "id": "38fa0f6e",
   "metadata": {},
   "outputs": [],
   "source": [
    "import argparse\n",
    "\n",
    "import pandas as pd\n",
    "import torch\n",
    "import transformers\n",
    "from sacred import Experiment\n",
    "from tqdm import tqdm\n",
    "import glob\n",
    "\n",
    "import numpy as np\n",
    "import os\n",
    "import copy\n",
    "import pathlib\n",
    "import platform"
   ]
  },
  {
   "cell_type": "code",
   "execution_count": 115,
   "id": "6c18d648",
   "metadata": {},
   "outputs": [
    {
     "data": {
      "text/plain": [
       "_StoreAction(option_strings=['--batch_size'], dest='batch_size', nargs=None, const=None, default=16, type=<class 'int'>, choices=None, required=False, help='size of batch', metavar=None)"
      ]
     },
     "execution_count": 115,
     "metadata": {},
     "output_type": "execute_result"
    }
   ],
   "source": [
    "import sys\n",
    "\n",
    "original_argv = sys.argv.copy()\n",
    "sys.argv = ['ipython']\n",
    "\n",
    "parser = argparse.ArgumentParser(description='PyTorch Template')\n",
    "\n",
    "parser.add_argument('-r', '--resume', default=None, type=str,\n",
    "                    help='path to latest checkpoint (default: None)')\n",
    "parser.add_argument('-d', '--device', default=None, type=str,\n",
    "                    help='indices of GPUs to enable (default: all)')\n",
    "parser.add_argument('-c', '--config', default=None, type=str,\n",
    "                    help='config file path (default: None)')\n",
    "parser.add_argument('-s', '--sliding_window_stride', default=-1, type=int,\n",
    "                    help='test time temporal augmentation, repeat samples with different start times.')\n",
    "parser.add_argument('--save_feats', default=None,\n",
    "                    help='path to store text & video feats, this is for saving embeddings if you want to do offline retrieval.')\n",
    "parser.add_argument('--save_type', default='both', choices=['both', 'text', 'video'],\n",
    "                    help='Whether to save video, text or both feats. If running on inference videos, text is just a placeholder')\n",
    "parser.add_argument('--vis_token_similarity', action='store_true')\n",
    "parser.add_argument('--split', default='test', choices=['train', 'val', 'test'],\n",
    "                    help='split to evaluate on.')\n",
    "parser.add_argument('--batch_size', default=16, type=int,\n",
    "                    help='size of batch')"
   ]
  },
  {
   "cell_type": "code",
   "execution_count": 116,
   "id": "48e6f084",
   "metadata": {},
   "outputs": [
    {
     "name": "stdout",
     "output_type": "stream",
     "text": [
      "['ipython', '-c', 'configs/ntu.json', '-r', 'exps/pretrained/cc-webvid2m-4f_stformer_b_16_224.pth.tar', '--split', 'test', '--batch_size', '16']\n"
     ]
    }
   ],
   "source": [
    "sys.argv.extend([\n",
    "    '-c', 'configs/ntu.json',\n",
    "    '-r', 'exps/pretrained/cc-webvid2m-4f_stformer_b_16_224.pth.tar',\n",
    "    '--split', 'test',\n",
    "    '--batch_size', '16'\n",
    "])\n",
    "print(sys.argv)\n"
   ]
  },
  {
   "cell_type": "code",
   "execution_count": 118,
   "id": "af7ec7a0",
   "metadata": {},
   "outputs": [
    {
     "name": "stdout",
     "output_type": "stream",
     "text": [
      "Dataset name: NTU\n",
      "Data dir: data/nturgbd_rgb\n",
      "Cut: standard\n"
     ]
    }
   ],
   "source": [
    "config = ConfigParser(parser, test=True)\n",
    "\n",
    "print(f\"Dataset name: {config['data_loader']['args']['dataset_name']}\")\n",
    "print(f\"Data dir: {config['data_loader']['args']['data_dir']}\")\n",
    "print(f\"Cut: {config['data_loader']['args']['cut']}\")\n",
    "\n",
    "args = parser.parse_args()"
   ]
  },
  {
   "cell_type": "code",
   "execution_count": 121,
   "id": "44967807",
   "metadata": {},
   "outputs": [],
   "source": [
    "config._config['data_loader']['args']['split'] = args.split\n",
    "config._config['data_loader']['args']['tsfm_split'] = 'test'\n",
    "config._config['data_loader']['args']['shuffle'] = False\n",
    "config._config['data_loader']['args']['batch_size'] = args.batch_size\n",
    "config._config['data_loader']['args']['sliding_window_stride'] = args.sliding_window_stride"
   ]
  },
  {
   "cell_type": "code",
   "execution_count": 119,
   "id": "7141100b",
   "metadata": {},
   "outputs": [
    {
     "name": "stdout",
     "output_type": "stream",
     "text": [
      "TextVideoDataLoader\n"
     ]
    },
    {
     "data": {
      "text/plain": [
       "' 이거 한번 만들어보자'"
      ]
     },
     "execution_count": 119,
     "metadata": {},
     "output_type": "execute_result"
    }
   ],
   "source": [
    "data_loader = config.initialize('data_loader', module_data)"
   ]
  },
  {
   "cell_type": "code",
   "execution_count": 132,
   "id": "5c9bea83",
   "metadata": {},
   "outputs": [
    {
     "name": "stdout",
     "output_type": "stream",
     "text": [
      "TextVideoDataLoader\n",
      "  dataset_name: NTU\n",
      "  data_dir: data/nturgbd_rgb\n",
      "  shuffle: False\n",
      "  num_workers: 16\n",
      "  batch_size: 16\n",
      "  split: test\n",
      "  cut: standard\n",
      "  subsample: 1\n",
      "  text_params: ['input']\n",
      "  video_params: ['extraction_fps', 'extraction_res', 'input_res', 'num_frames', 'stride']\n",
      "  tsfm_split: test\n",
      "  sliding_window_stride: -1\n"
     ]
    }
   ],
   "source": [
    "module_name = config['data_loader']['type']\n",
    "module_args = dict(config['data_loader']['args'])\n",
    "\n",
    "print(module_name)\n",
    "for key, value in module_args.items():\n",
    "    if isinstance(value, dict):\n",
    "        print(f\"  {key}: {list(value.keys())}\")\n",
    "    else:\n",
    "        print(f\"  {key}: {value}\")"
   ]
  },
  {
   "cell_type": "code",
   "execution_count": 133,
   "id": "b6d99b97",
   "metadata": {},
   "outputs": [
    {
     "name": "stdout",
     "output_type": "stream",
     "text": [
      "{<class 'data_loader.data_loader.TextVideoDataLoader'>}\n",
      "{<class 'type'>}\n"
     ]
    }
   ],
   "source": [
    "TextVideoDataLoader = getattr(module_data, module_name)\n",
    "\n",
    "print({TextVideoDataLoader})\n",
    "print({type(TextVideoDataLoader)})"
   ]
  },
  {
   "cell_type": "code",
   "execution_count": 135,
   "id": "fba8a9b1",
   "metadata": {},
   "outputs": [
    {
     "name": "stdout",
     "output_type": "stream",
     "text": [
      "  dataset_name: NTU\n",
      "  text_params: OrderedDict([('input', 'text')])\n",
      "  video_params: OrderedDict([('extraction_fps', 25), ('extraction_res', 256), ('input_res', 224), ('num_frames', 4), ('stride', 1)])\n",
      "  data_dir: data/nturgbd_rgb\n",
      "  metadata_dir: None\n",
      "  split: test\n",
      "  cut: standard\n",
      "  subsample: 1\n"
     ]
    }
   ],
   "source": [
    "dataset_kwargs = {\n",
    "    'dataset_name': module_args['dataset_name'],\n",
    "    'text_params': module_args['text_params'],\n",
    "    'video_params': module_args['video_params'],\n",
    "    'data_dir': module_args['data_dir'],\n",
    "    'metadata_dir': module_args.get('metadata_dir'),\n",
    "    'split': module_args['split'],\n",
    "    'cut': module_args.get('cut'),\n",
    "    'subsample': module_args.get('subsample', 1),\n",
    "}\n",
    "\n",
    "for key, value in dataset_kwargs.items():\n",
    "    print(f\"  {key}: {value}\")"
   ]
  },
  {
   "cell_type": "code",
   "execution_count": 138,
   "id": "95f0c11e",
   "metadata": {},
   "outputs": [
    {
     "name": "stdout",
     "output_type": "stream",
     "text": [
      "dataset_name: 'NTU'\n",
      "NTU 클래스: <class 'data_loader.NTU_dataset.NTU'>\n",
      "NTU 부모 클래스: (<class 'base.base_dataset.TextVideoDataset'>,)\n"
     ]
    }
   ],
   "source": [
    "from data_loader.NTU_dataset import NTU\n",
    "from base.base_dataset import TextVideoDataset\n",
    "\n"
   ]
  },
  {
   "cell_type": "code",
   "execution_count": 141,
   "id": "254dec8d",
   "metadata": {},
   "outputs": [
    {
     "name": "stdout",
     "output_type": "stream",
     "text": [
      "                    videoid\n",
      "0  S017C001P003R001A001_rgb\n",
      "1  S017C001P003R001A002_rgb\n",
      "2  S017C001P003R001A003_rgb\n",
      "3  S017C001P003R001A004_rgb\n",
      "4  S017C001P003R001A005_rgb\n",
      "                    videoid\n",
      "0  S017C001P008R001A001_rgb\n",
      "1  S017C001P008R001A002_rgb\n",
      "2  S017C001P008R001A003_rgb\n",
      "3  S017C001P008R001A004_rgb\n",
      "4  S017C001P008R001A005_rgb\n"
     ]
    }
   ],
   "source": [
    "ntu_metadata_dir = \"data/nturgbd_rgb\"\n",
    "csv_fp = os.path.join(ntu_metadata_dir, 'annotations.csv')\n",
    "ntu_df = pd.read_csv(csv_fp)\n",
    "\n",
    "ntu_split_dir = os.path.join(ntu_metadata_dir, 'splits')\n",
    "ntu_train_list_path = \"train_list.txt\"\n",
    "ntu_test_list_path = \"test_list.txt\"\n",
    "\n",
    "        \n",
    "ntu_train_df = pd.read_csv(os.path.join(ntu_split_dir, ntu_train_list_path), names=['videoid'])\n",
    "ntu_test_df = pd.read_csv(os.path.join(ntu_split_dir, ntu_test_list_path), names=['videoid'])\n",
    "\n",
    "print(ntu_train_df.head())\n",
    "print(ntu_test_df.head())"
   ]
  },
  {
   "cell_type": "code",
   "execution_count": 142,
   "id": "6a90e194",
   "metadata": {},
   "outputs": [
    {
     "name": "stdout",
     "output_type": "stream",
     "text": [
      "video_id\n",
      "S017C001P003R001A001_rgb    [drink_water]\n",
      "S017C001P003R001A002_rgb       [eat_meal]\n",
      "S017C001P003R001A003_rgb    [brush_teeth]\n",
      "S017C001P003R001A004_rgb     [brush_hair]\n",
      "S017C001P003R001A005_rgb           [drop]\n",
      "Name: caption, dtype: object\n"
     ]
    }
   ],
   "source": [
    "ntu_metadata = ntu_df.groupby(['video_id'])['caption'].apply(list)\n",
    "print(ntu_metadata.head())"
   ]
  },
  {
   "cell_type": "code",
   "execution_count": 147,
   "id": "fb941b5e",
   "metadata": {},
   "outputs": [
    {
     "name": "stdout",
     "output_type": "stream",
     "text": [
      "TextVideoDataLoader\n"
     ]
    }
   ],
   "source": [
    "data_loader = config.initialize('data_loader', module_data)"
   ]
  },
  {
   "cell_type": "code",
   "execution_count": 151,
   "id": "3be37fc3",
   "metadata": {},
   "outputs": [
    {
     "name": "stdout",
     "output_type": "stream",
     "text": [
      "Metadata shape: (600,)\n",
      "Metadata 첫 3행:\n",
      "video_id\n",
      "S017C001P008R001A001_rgb    [drink_water]\n",
      "S017C001P008R001A002_rgb       [eat_meal]\n",
      "S017C001P008R001A003_rgb    [brush_teeth]\n",
      "Name: caption, dtype: object\n"
     ]
    }
   ],
   "source": [
    "dataset = data_loader.dataset\n",
    "print(f\"Metadata shape: {dataset.metadata.shape}\")\n",
    "print(f\"Metadata 첫 3행:\\n{dataset.metadata.head(3)}\")"
   ]
  },
  {
   "cell_type": "code",
   "execution_count": null,
   "id": "9ce2a7ed",
   "metadata": {},
   "outputs": [],
   "source": [
    "first_batch = next(iter(data_loader))"
   ]
  }
 ],
 "metadata": {
  "kernelspec": {
   "display_name": "Fine-VLA",
   "language": "python",
   "name": "fine-vla"
  },
  "language_info": {
   "codemirror_mode": {
    "name": "ipython",
    "version": 3
   },
   "file_extension": ".py",
   "mimetype": "text/x-python",
   "name": "python",
   "nbconvert_exporter": "python",
   "pygments_lexer": "ipython3",
   "version": "3.10.17"
  }
 },
 "nbformat": 4,
 "nbformat_minor": 5
}
