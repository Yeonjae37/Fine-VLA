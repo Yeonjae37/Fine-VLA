{
 "cells": [
  {
   "cell_type": "code",
   "execution_count": 3,
   "id": "0fdf2c08",
   "metadata": {},
   "outputs": [],
   "source": [
    "import sys, os\n",
    "\n",
    "root = os.path.abspath(os.path.join(os.getcwd(), '..'))\n",
    "if root not in sys.path:\n",
    "    sys.path.insert(0, root)\n",
    "from base.base_dataset import TextVideoDataset"
   ]
  },
  {
   "cell_type": "code",
   "execution_count": 4,
   "id": "76626cf1",
   "metadata": {},
   "outputs": [],
   "source": [
    "import json\n",
    "import os\n",
    "import random\n",
    "\n",
    "import numpy as np\n",
    "import pandas as pd"
   ]
  },
  {
   "cell_type": "code",
   "execution_count": 40,
   "id": "18ec8db9",
   "metadata": {},
   "outputs": [
    {
     "name": "stdout",
     "output_type": "stream",
     "text": [
      "     videoid\n",
      "0     video0\n",
      "1     video1\n",
      "2    video10\n",
      "3  video1000\n",
      "4  video1002\n",
      "     videoid\n",
      "0  video8782\n",
      "1  video8783\n",
      "2  video8784\n",
      "3  video8785\n",
      "4  video8788\n"
     ]
    }
   ],
   "source": [
    "msrvtt_metadata_dir = \"../data/MSRVTT\"\n",
    "json_fp = os.path.join(msrvtt_metadata_dir, 'annotation', 'MSR_VTT.json')\n",
    "with open(json_fp, 'r') as fid:\n",
    "    data = json.load(fid)\n",
    "msrvtt_df = pd.DataFrame(data['annotations'])\n",
    "\n",
    "msrvtt_split_dir = os.path.join(msrvtt_metadata_dir, 'high-quality', 'structured-symlinks')\n",
    "msrvtt_train_list_path = \"train_list_miech.txt\"\n",
    "msrvtt_test_list_path = \"test_list_miech.txt\"\n",
    "\n",
    "msrvtt_train_df = pd.read_csv(os.path.join(msrvtt_split_dir, msrvtt_train_list_path), names=['videoid'])\n",
    "msrvtt_test_df = pd.read_csv(os.path.join(msrvtt_split_dir, msrvtt_test_list_path), names=['videoid'])\n",
    "\n",
    "print(msrvtt_train_df.head())\n",
    "print(msrvtt_test_df.head())"
   ]
  },
  {
   "cell_type": "code",
   "execution_count": 41,
   "id": "663517d4",
   "metadata": {},
   "outputs": [
    {
     "name": "stdout",
     "output_type": "stream",
     "text": [
      "                    videoid\n",
      "0  S017C001P003R001A001_rgb\n",
      "1  S017C001P003R001A002_rgb\n",
      "2  S017C001P003R001A003_rgb\n",
      "3  S017C001P003R001A004_rgb\n",
      "4  S017C001P003R001A005_rgb\n",
      "                    videoid\n",
      "0  S017C001P008R001A001_rgb\n",
      "1  S017C001P008R001A002_rgb\n",
      "2  S017C001P008R001A003_rgb\n",
      "3  S017C001P008R001A004_rgb\n",
      "4  S017C001P008R001A005_rgb\n"
     ]
    }
   ],
   "source": [
    "ntu_metadata_dir = \"../data/nturgbd_rgb\"\n",
    "csv_fp = os.path.join(ntu_metadata_dir, 'annotations.csv')\n",
    "ntu_df = pd.read_csv(csv_fp)\n",
    "\n",
    "ntu_split_dir = os.path.join(ntu_metadata_dir, 'splits')\n",
    "ntu_train_list_path = \"train_list.txt\"\n",
    "ntu_test_list_path = \"test_list.txt\"\n",
    "\n",
    "        \n",
    "ntu_train_df = pd.read_csv(os.path.join(ntu_split_dir, ntu_train_list_path), names=['videoid'])\n",
    "ntu_test_df = pd.read_csv(os.path.join(ntu_split_dir, ntu_test_list_path), names=['videoid'])\n",
    "\n",
    "print(ntu_train_df.head())\n",
    "print(ntu_test_df.head())"
   ]
  },
  {
   "cell_type": "code",
   "execution_count": 42,
   "id": "90a25e75",
   "metadata": {},
   "outputs": [
    {
     "name": "stdout",
     "output_type": "stream",
     "text": [
      "image_id\n",
      "video0       [a car is shown, a group is dancing, a man dri...\n",
      "video1       [in a kitchen a woman adds different ingredien...\n",
      "video10      [a man holds two dogs, a man introducing he tw...\n",
      "video100     [a basset hound sits outside a door, a breed d...\n",
      "video1000    [a woman is wearing a costume, a woman talking...\n",
      "Name: caption, dtype: object\n"
     ]
    }
   ],
   "source": [
    "msrvtt_metadata = msrvtt_df.groupby(['image_id'])['caption'].apply(list)\n",
    "print(msrvtt_metadata.head())"
   ]
  },
  {
   "cell_type": "code",
   "execution_count": 43,
   "id": "1d147eeb",
   "metadata": {},
   "outputs": [
    {
     "name": "stdout",
     "output_type": "stream",
     "text": [
      "video_id\n",
      "S017C001P003R001A001_rgb    [drink_water]\n",
      "S017C001P003R001A002_rgb       [eat_meal]\n",
      "S017C001P003R001A003_rgb    [brush_teeth]\n",
      "S017C001P003R001A004_rgb     [brush_hair]\n",
      "S017C001P003R001A005_rgb           [drop]\n",
      "Name: caption, dtype: object\n"
     ]
    }
   ],
   "source": [
    "ntu_metadata = ntu_df.groupby(['video_id'])['caption'].apply(list)\n",
    "print(ntu_metadata.head())"
   ]
  },
  {
   "cell_type": "code",
   "execution_count": 45,
   "id": "48c4ec00",
   "metadata": {},
   "outputs": [
    {
     "name": "stdout",
     "output_type": "stream",
     "text": [
      "video_id\n",
      "S017C002P008R001A043_rgb             [falling_down]\n",
      "S017C003P007R002A023_rgb              [hand_waving]\n",
      "S017C001P009R001A040_rgb     [cross_hands_in_front]\n",
      "S017C003P007R002A025_rgb        [reach_into_pocket]\n",
      "S017C003P020R002A023_rgb              [hand_waving]\n",
      "                                     ...           \n",
      "S017C003P009R001A001_rgb              [drink_water]\n",
      "S017C001P007R001A033_rgb    [check_time_from_watch]\n",
      "S017C002P007R001A001_rgb              [drink_water]\n",
      "S017C001P015R002A023_rgb              [hand_waving]\n",
      "S017C003P009R002A009_rgb                 [stand_up]\n",
      "Name: caption, Length: 288, dtype: object\n"
     ]
    }
   ],
   "source": [
    "\n",
    "subsample = 0.1\n",
    "ntu_metadata = ntu_metadata.sample(frac=subsample)\n",
    "print(ntu_metadata)"
   ]
  }
 ],
 "metadata": {
  "kernelspec": {
   "display_name": "Fine-VLA",
   "language": "python",
   "name": "fine-vla"
  },
  "language_info": {
   "codemirror_mode": {
    "name": "ipython",
    "version": 3
   },
   "file_extension": ".py",
   "mimetype": "text/x-python",
   "name": "python",
   "nbconvert_exporter": "python",
   "pygments_lexer": "ipython3",
   "version": "3.10.17"
  }
 },
 "nbformat": 4,
 "nbformat_minor": 5
}
